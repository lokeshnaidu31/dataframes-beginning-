{
  "nbformat": 4,
  "nbformat_minor": 0,
  "metadata": {
    "colab": {
      "provenance": []
    },
    "kernelspec": {
      "name": "python3",
      "display_name": "Python 3"
    },
    "language_info": {
      "name": "python"
    }
  },
  "cells": [
    {
      "cell_type": "markdown",
      "source": [
        "# **LAB SESSION 11**"
      ],
      "metadata": {
        "id": "-QkYkx4Z4yz9"
      }
    },
    {
      "cell_type": "markdown",
      "source": [
        "**A22126551030**\n",
        "\n",
        "**CSD-A[2/4]**"
      ],
      "metadata": {
        "id": "LLW9GoU448T4"
      }
    },
    {
      "cell_type": "markdown",
      "source": [
        "**DATA FRAMES** :"
      ],
      "metadata": {
        "id": "91RC6uCD5EP8"
      }
    },
    {
      "cell_type": "markdown",
      "source": [
        "creating a data frame from a dictionary"
      ],
      "metadata": {
        "id": "pZs3X2gM5Vch"
      }
    },
    {
      "cell_type": "code",
      "source": [
        "import pandas as pd\n",
        "import numpy as np"
      ],
      "metadata": {
        "id": "TaCqvked7aQP"
      },
      "execution_count": null,
      "outputs": []
    },
    {
      "cell_type": "code",
      "execution_count": null,
      "metadata": {
        "colab": {
          "base_uri": "https://localhost:8080/"
        },
        "id": "ajFugbvU4pF7",
        "outputId": "a6af3094-4348-4754-cbcb-e8f3ad5370d3"
      },
      "outputs": [
        {
          "output_type": "stream",
          "name": "stdout",
          "text": [
            "   population  area  income\n",
            "0       20000   200      20\n",
            "1       30000   300      30\n",
            "2       15000   150      15\n",
            "3       50000   500      50\n"
          ]
        }
      ],
      "source": [
        "mydata={'population':[20000,30000,15000,50000],'area':[200,300,150,500],'income':[20,30,15,50]}\n",
        "df=pd.DataFrame(mydata)\n",
        "print(df)"
      ]
    },
    {
      "cell_type": "markdown",
      "source": [
        "using head method:"
      ],
      "metadata": {
        "id": "ViDhTesk8L-T"
      }
    },
    {
      "cell_type": "code",
      "source": [
        "print(df.head(2))"
      ],
      "metadata": {
        "colab": {
          "base_uri": "https://localhost:8080/"
        },
        "id": "xpKMnZPC47Qh",
        "outputId": "4c60dc1a-b920-4971-fcb6-1b44e974e1b7"
      },
      "execution_count": null,
      "outputs": [
        {
          "output_type": "stream",
          "name": "stdout",
          "text": [
            "   population  area  income\n",
            "0       20000   200      20\n",
            "1       30000   300      30\n"
          ]
        }
      ]
    },
    {
      "cell_type": "markdown",
      "source": [
        "arranging columns in aspecific order"
      ],
      "metadata": {
        "id": "pFTdZhcA8H2u"
      }
    },
    {
      "cell_type": "code",
      "source": [
        "pd.DataFrame(mydata,columns=['area','income','population'])"
      ],
      "metadata": {
        "colab": {
          "base_uri": "https://localhost:8080/",
          "height": 175
        },
        "id": "MKWvK4EI8xWl",
        "outputId": "9a142e69-754c-4302-84f6-0657b551f49f"
      },
      "execution_count": null,
      "outputs": [
        {
          "output_type": "execute_result",
          "data": {
            "text/plain": [
              "   area  income  population\n",
              "0   200      20       20000\n",
              "1   300      30       30000\n",
              "2   150      15       15000\n",
              "3   500      50       50000"
            ],
            "text/html": [
              "\n",
              "  <div id=\"df-fdbce41d-6274-40e8-84e3-681a68077304\" class=\"colab-df-container\">\n",
              "    <div>\n",
              "<style scoped>\n",
              "    .dataframe tbody tr th:only-of-type {\n",
              "        vertical-align: middle;\n",
              "    }\n",
              "\n",
              "    .dataframe tbody tr th {\n",
              "        vertical-align: top;\n",
              "    }\n",
              "\n",
              "    .dataframe thead th {\n",
              "        text-align: right;\n",
              "    }\n",
              "</style>\n",
              "<table border=\"1\" class=\"dataframe\">\n",
              "  <thead>\n",
              "    <tr style=\"text-align: right;\">\n",
              "      <th></th>\n",
              "      <th>area</th>\n",
              "      <th>income</th>\n",
              "      <th>population</th>\n",
              "    </tr>\n",
              "  </thead>\n",
              "  <tbody>\n",
              "    <tr>\n",
              "      <th>0</th>\n",
              "      <td>200</td>\n",
              "      <td>20</td>\n",
              "      <td>20000</td>\n",
              "    </tr>\n",
              "    <tr>\n",
              "      <th>1</th>\n",
              "      <td>300</td>\n",
              "      <td>30</td>\n",
              "      <td>30000</td>\n",
              "    </tr>\n",
              "    <tr>\n",
              "      <th>2</th>\n",
              "      <td>150</td>\n",
              "      <td>15</td>\n",
              "      <td>15000</td>\n",
              "    </tr>\n",
              "    <tr>\n",
              "      <th>3</th>\n",
              "      <td>500</td>\n",
              "      <td>50</td>\n",
              "      <td>50000</td>\n",
              "    </tr>\n",
              "  </tbody>\n",
              "</table>\n",
              "</div>\n",
              "    <div class=\"colab-df-buttons\">\n",
              "\n",
              "  <div class=\"colab-df-container\">\n",
              "    <button class=\"colab-df-convert\" onclick=\"convertToInteractive('df-fdbce41d-6274-40e8-84e3-681a68077304')\"\n",
              "            title=\"Convert this dataframe to an interactive table.\"\n",
              "            style=\"display:none;\">\n",
              "\n",
              "  <svg xmlns=\"http://www.w3.org/2000/svg\" height=\"24px\" viewBox=\"0 -960 960 960\">\n",
              "    <path d=\"M120-120v-720h720v720H120Zm60-500h600v-160H180v160Zm220 220h160v-160H400v160Zm0 220h160v-160H400v160ZM180-400h160v-160H180v160Zm440 0h160v-160H620v160ZM180-180h160v-160H180v160Zm440 0h160v-160H620v160Z\"/>\n",
              "  </svg>\n",
              "    </button>\n",
              "\n",
              "  <style>\n",
              "    .colab-df-container {\n",
              "      display:flex;\n",
              "      gap: 12px;\n",
              "    }\n",
              "\n",
              "    .colab-df-convert {\n",
              "      background-color: #E8F0FE;\n",
              "      border: none;\n",
              "      border-radius: 50%;\n",
              "      cursor: pointer;\n",
              "      display: none;\n",
              "      fill: #1967D2;\n",
              "      height: 32px;\n",
              "      padding: 0 0 0 0;\n",
              "      width: 32px;\n",
              "    }\n",
              "\n",
              "    .colab-df-convert:hover {\n",
              "      background-color: #E2EBFA;\n",
              "      box-shadow: 0px 1px 2px rgba(60, 64, 67, 0.3), 0px 1px 3px 1px rgba(60, 64, 67, 0.15);\n",
              "      fill: #174EA6;\n",
              "    }\n",
              "\n",
              "    .colab-df-buttons div {\n",
              "      margin-bottom: 4px;\n",
              "    }\n",
              "\n",
              "    [theme=dark] .colab-df-convert {\n",
              "      background-color: #3B4455;\n",
              "      fill: #D2E3FC;\n",
              "    }\n",
              "\n",
              "    [theme=dark] .colab-df-convert:hover {\n",
              "      background-color: #434B5C;\n",
              "      box-shadow: 0px 1px 3px 1px rgba(0, 0, 0, 0.15);\n",
              "      filter: drop-shadow(0px 1px 2px rgba(0, 0, 0, 0.3));\n",
              "      fill: #FFFFFF;\n",
              "    }\n",
              "  </style>\n",
              "\n",
              "    <script>\n",
              "      const buttonEl =\n",
              "        document.querySelector('#df-fdbce41d-6274-40e8-84e3-681a68077304 button.colab-df-convert');\n",
              "      buttonEl.style.display =\n",
              "        google.colab.kernel.accessAllowed ? 'block' : 'none';\n",
              "\n",
              "      async function convertToInteractive(key) {\n",
              "        const element = document.querySelector('#df-fdbce41d-6274-40e8-84e3-681a68077304');\n",
              "        const dataTable =\n",
              "          await google.colab.kernel.invokeFunction('convertToInteractive',\n",
              "                                                    [key], {});\n",
              "        if (!dataTable) return;\n",
              "\n",
              "        const docLinkHtml = 'Like what you see? Visit the ' +\n",
              "          '<a target=\"_blank\" href=https://colab.research.google.com/notebooks/data_table.ipynb>data table notebook</a>'\n",
              "          + ' to learn more about interactive tables.';\n",
              "        element.innerHTML = '';\n",
              "        dataTable['output_type'] = 'display_data';\n",
              "        await google.colab.output.renderOutput(dataTable, element);\n",
              "        const docLink = document.createElement('div');\n",
              "        docLink.innerHTML = docLinkHtml;\n",
              "        element.appendChild(docLink);\n",
              "      }\n",
              "    </script>\n",
              "  </div>\n",
              "\n",
              "\n",
              "<div id=\"df-4b8bc817-6677-45d1-89fc-e4b9b882c1db\">\n",
              "  <button class=\"colab-df-quickchart\" onclick=\"quickchart('df-4b8bc817-6677-45d1-89fc-e4b9b882c1db')\"\n",
              "            title=\"Suggest charts\"\n",
              "            style=\"display:none;\">\n",
              "\n",
              "<svg xmlns=\"http://www.w3.org/2000/svg\" height=\"24px\"viewBox=\"0 0 24 24\"\n",
              "     width=\"24px\">\n",
              "    <g>\n",
              "        <path d=\"M19 3H5c-1.1 0-2 .9-2 2v14c0 1.1.9 2 2 2h14c1.1 0 2-.9 2-2V5c0-1.1-.9-2-2-2zM9 17H7v-7h2v7zm4 0h-2V7h2v10zm4 0h-2v-4h2v4z\"/>\n",
              "    </g>\n",
              "</svg>\n",
              "  </button>\n",
              "\n",
              "<style>\n",
              "  .colab-df-quickchart {\n",
              "      --bg-color: #E8F0FE;\n",
              "      --fill-color: #1967D2;\n",
              "      --hover-bg-color: #E2EBFA;\n",
              "      --hover-fill-color: #174EA6;\n",
              "      --disabled-fill-color: #AAA;\n",
              "      --disabled-bg-color: #DDD;\n",
              "  }\n",
              "\n",
              "  [theme=dark] .colab-df-quickchart {\n",
              "      --bg-color: #3B4455;\n",
              "      --fill-color: #D2E3FC;\n",
              "      --hover-bg-color: #434B5C;\n",
              "      --hover-fill-color: #FFFFFF;\n",
              "      --disabled-bg-color: #3B4455;\n",
              "      --disabled-fill-color: #666;\n",
              "  }\n",
              "\n",
              "  .colab-df-quickchart {\n",
              "    background-color: var(--bg-color);\n",
              "    border: none;\n",
              "    border-radius: 50%;\n",
              "    cursor: pointer;\n",
              "    display: none;\n",
              "    fill: var(--fill-color);\n",
              "    height: 32px;\n",
              "    padding: 0;\n",
              "    width: 32px;\n",
              "  }\n",
              "\n",
              "  .colab-df-quickchart:hover {\n",
              "    background-color: var(--hover-bg-color);\n",
              "    box-shadow: 0 1px 2px rgba(60, 64, 67, 0.3), 0 1px 3px 1px rgba(60, 64, 67, 0.15);\n",
              "    fill: var(--button-hover-fill-color);\n",
              "  }\n",
              "\n",
              "  .colab-df-quickchart-complete:disabled,\n",
              "  .colab-df-quickchart-complete:disabled:hover {\n",
              "    background-color: var(--disabled-bg-color);\n",
              "    fill: var(--disabled-fill-color);\n",
              "    box-shadow: none;\n",
              "  }\n",
              "\n",
              "  .colab-df-spinner {\n",
              "    border: 2px solid var(--fill-color);\n",
              "    border-color: transparent;\n",
              "    border-bottom-color: var(--fill-color);\n",
              "    animation:\n",
              "      spin 1s steps(1) infinite;\n",
              "  }\n",
              "\n",
              "  @keyframes spin {\n",
              "    0% {\n",
              "      border-color: transparent;\n",
              "      border-bottom-color: var(--fill-color);\n",
              "      border-left-color: var(--fill-color);\n",
              "    }\n",
              "    20% {\n",
              "      border-color: transparent;\n",
              "      border-left-color: var(--fill-color);\n",
              "      border-top-color: var(--fill-color);\n",
              "    }\n",
              "    30% {\n",
              "      border-color: transparent;\n",
              "      border-left-color: var(--fill-color);\n",
              "      border-top-color: var(--fill-color);\n",
              "      border-right-color: var(--fill-color);\n",
              "    }\n",
              "    40% {\n",
              "      border-color: transparent;\n",
              "      border-right-color: var(--fill-color);\n",
              "      border-top-color: var(--fill-color);\n",
              "    }\n",
              "    60% {\n",
              "      border-color: transparent;\n",
              "      border-right-color: var(--fill-color);\n",
              "    }\n",
              "    80% {\n",
              "      border-color: transparent;\n",
              "      border-right-color: var(--fill-color);\n",
              "      border-bottom-color: var(--fill-color);\n",
              "    }\n",
              "    90% {\n",
              "      border-color: transparent;\n",
              "      border-bottom-color: var(--fill-color);\n",
              "    }\n",
              "  }\n",
              "</style>\n",
              "\n",
              "  <script>\n",
              "    async function quickchart(key) {\n",
              "      const quickchartButtonEl =\n",
              "        document.querySelector('#' + key + ' button');\n",
              "      quickchartButtonEl.disabled = true;  // To prevent multiple clicks.\n",
              "      quickchartButtonEl.classList.add('colab-df-spinner');\n",
              "      try {\n",
              "        const charts = await google.colab.kernel.invokeFunction(\n",
              "            'suggestCharts', [key], {});\n",
              "      } catch (error) {\n",
              "        console.error('Error during call to suggestCharts:', error);\n",
              "      }\n",
              "      quickchartButtonEl.classList.remove('colab-df-spinner');\n",
              "      quickchartButtonEl.classList.add('colab-df-quickchart-complete');\n",
              "    }\n",
              "    (() => {\n",
              "      let quickchartButtonEl =\n",
              "        document.querySelector('#df-4b8bc817-6677-45d1-89fc-e4b9b882c1db button');\n",
              "      quickchartButtonEl.style.display =\n",
              "        google.colab.kernel.accessAllowed ? 'block' : 'none';\n",
              "    })();\n",
              "  </script>\n",
              "</div>\n",
              "\n",
              "    </div>\n",
              "  </div>\n"
            ],
            "application/vnd.google.colaboratory.intrinsic+json": {
              "type": "dataframe",
              "summary": "{\n  \"name\": \"pd\",\n  \"rows\": 4,\n  \"fields\": [\n    {\n      \"column\": \"area\",\n      \"properties\": {\n        \"dtype\": \"number\",\n        \"std\": 154,\n        \"min\": 150,\n        \"max\": 500,\n        \"num_unique_values\": 4,\n        \"samples\": [\n          300,\n          500,\n          200\n        ],\n        \"semantic_type\": \"\",\n        \"description\": \"\"\n      }\n    },\n    {\n      \"column\": \"income\",\n      \"properties\": {\n        \"dtype\": \"number\",\n        \"std\": 15,\n        \"min\": 15,\n        \"max\": 50,\n        \"num_unique_values\": 4,\n        \"samples\": [\n          30,\n          50,\n          20\n        ],\n        \"semantic_type\": \"\",\n        \"description\": \"\"\n      }\n    },\n    {\n      \"column\": \"population\",\n      \"properties\": {\n        \"dtype\": \"number\",\n        \"std\": 15478,\n        \"min\": 15000,\n        \"max\": 50000,\n        \"num_unique_values\": 4,\n        \"samples\": [\n          30000,\n          50000,\n          20000\n        ],\n        \"semantic_type\": \"\",\n        \"description\": \"\"\n      }\n    }\n  ]\n}"
            }
          },
          "metadata": {},
          "execution_count": 18
        }
      ]
    },
    {
      "cell_type": "markdown",
      "source": [
        "adding indexes"
      ],
      "metadata": {
        "id": "-UazfnRN95JZ"
      }
    },
    {
      "cell_type": "code",
      "source": [
        "df2=pd.DataFrame(mydata,index=['pune','vizag','goa','hyd'])\n",
        "print(df2)"
      ],
      "metadata": {
        "colab": {
          "base_uri": "https://localhost:8080/"
        },
        "id": "fvNmhpBH94wo",
        "outputId": "e79e442b-93d4-49a8-deff-00d4c033f694"
      },
      "execution_count": null,
      "outputs": [
        {
          "output_type": "stream",
          "name": "stdout",
          "text": [
            "       population  area  income\n",
            "pune        20000   200      20\n",
            "vizag       30000   300      30\n",
            "goa         15000   150      15\n",
            "hyd         50000   500      50\n"
          ]
        }
      ]
    },
    {
      "cell_type": "markdown",
      "source": [
        "retrieving columns:it can be retrieved as a series"
      ],
      "metadata": {
        "id": "B-V3ORLM-gSM"
      }
    },
    {
      "cell_type": "code",
      "source": [
        "df2['population']"
      ],
      "metadata": {
        "colab": {
          "base_uri": "https://localhost:8080/"
        },
        "id": "GeuZ6bkd-f_5",
        "outputId": "a7252877-0702-4974-eb2a-c576e55f1319"
      },
      "execution_count": null,
      "outputs": [
        {
          "output_type": "execute_result",
          "data": {
            "text/plain": [
              "pune     20000\n",
              "vizag    30000\n",
              "goa      15000\n",
              "hyd      50000\n",
              "Name: population, dtype: int64"
            ]
          },
          "metadata": {},
          "execution_count": 20
        }
      ]
    },
    {
      "cell_type": "code",
      "source": [
        "df2.area"
      ],
      "metadata": {
        "colab": {
          "base_uri": "https://localhost:8080/"
        },
        "id": "DYeJJ2CJ-1d-",
        "outputId": "f8624d8f-527f-4d37-ca08-cb303317a185"
      },
      "execution_count": null,
      "outputs": [
        {
          "output_type": "execute_result",
          "data": {
            "text/plain": [
              "pune     200\n",
              "vizag    300\n",
              "goa      150\n",
              "hyd      500\n",
              "Name: area, dtype: int64"
            ]
          },
          "metadata": {},
          "execution_count": 21
        }
      ]
    },
    {
      "cell_type": "markdown",
      "source": [
        "retrieveing rows using 'loc'&'iloc'"
      ],
      "metadata": {
        "id": "ac6LbjJX_gCQ"
      }
    },
    {
      "cell_type": "code",
      "source": [
        "df2.loc['vizag']"
      ],
      "metadata": {
        "colab": {
          "base_uri": "https://localhost:8080/"
        },
        "id": "KKCkbAtJ_gph",
        "outputId": "22c326bc-40ee-428b-d499-5a61dd3813de"
      },
      "execution_count": null,
      "outputs": [
        {
          "output_type": "execute_result",
          "data": {
            "text/plain": [
              "population    30000\n",
              "area            300\n",
              "income           30\n",
              "Name: vizag, dtype: int64"
            ]
          },
          "metadata": {},
          "execution_count": 22
        }
      ]
    },
    {
      "cell_type": "code",
      "source": [
        "df2.iloc[2]"
      ],
      "metadata": {
        "colab": {
          "base_uri": "https://localhost:8080/"
        },
        "id": "DSQq0tL5_0KY",
        "outputId": "4b2e9af4-b781-452b-ade3-6cb09b67cbd1"
      },
      "execution_count": null,
      "outputs": [
        {
          "output_type": "execute_result",
          "data": {
            "text/plain": [
              "population    15000\n",
              "area            150\n",
              "income           15\n",
              "Name: goa, dtype: int64"
            ]
          },
          "metadata": {},
          "execution_count": 24
        }
      ]
    },
    {
      "cell_type": "markdown",
      "source": [
        "assigning columns:"
      ],
      "metadata": {
        "id": "N40WkBAXAczZ"
      }
    },
    {
      "cell_type": "code",
      "source": [
        "df2['literacy']=[87,98,67,99]\n",
        "print(df2)"
      ],
      "metadata": {
        "colab": {
          "base_uri": "https://localhost:8080/"
        },
        "id": "aJnSPyM0ADx1",
        "outputId": "5c6f37fe-9f44-47c8-fec1-68770e5dffa1"
      },
      "execution_count": null,
      "outputs": [
        {
          "output_type": "stream",
          "name": "stdout",
          "text": [
            "       population  area  income  literacy\n",
            "pune        20000   200      20        87\n",
            "vizag       30000   300      30        98\n",
            "goa         15000   150      15        67\n",
            "hyd         50000   500      50        99\n"
          ]
        }
      ]
    },
    {
      "cell_type": "code",
      "source": [
        "df2['col']=np.arange(4)\n",
        "print(df2)"
      ],
      "metadata": {
        "colab": {
          "base_uri": "https://localhost:8080/"
        },
        "id": "WEPx7xEiAwHQ",
        "outputId": "bfb3ae08-60bd-4ca0-e379-1467d55e1824"
      },
      "execution_count": null,
      "outputs": [
        {
          "output_type": "stream",
          "name": "stdout",
          "text": [
            "       population  area  income  literacy  col\n",
            "pune        20000   200      20        87    0\n",
            "vizag       30000   300      30        98    1\n",
            "goa         15000   150      15        67    2\n",
            "hyd         50000   500      50        99    3\n"
          ]
        }
      ]
    },
    {
      "cell_type": "markdown",
      "source": [
        "assigning a series to data frame"
      ],
      "metadata": {
        "id": "3Np_uM81BTMa"
      }
    },
    {
      "cell_type": "code",
      "source": [
        "ser1=pd.Series([2,3,5],index=['pune','vizag','hyd'])\n",
        "df2['col']=ser1\n",
        "print(df2)"
      ],
      "metadata": {
        "colab": {
          "base_uri": "https://localhost:8080/"
        },
        "id": "leGThHw0BS6t",
        "outputId": "b180f416-a0c9-40f0-b08d-93cbd9f5a6c8"
      },
      "execution_count": null,
      "outputs": [
        {
          "output_type": "stream",
          "name": "stdout",
          "text": [
            "       population  area  income  literacy  col\n",
            "pune        20000   200      20        87  2.0\n",
            "vizag       30000   300      30        98  3.0\n",
            "goa         15000   150      15        67  NaN\n",
            "hyd         50000   500      50        99  5.0\n"
          ]
        }
      ]
    },
    {
      "cell_type": "code",
      "source": [
        "ser2=pd.Series([34,56,89],index=['vizag','pune','goa'])\n",
        "df2['literacy']=ser2\n",
        "print(df2)"
      ],
      "metadata": {
        "colab": {
          "base_uri": "https://localhost:8080/"
        },
        "id": "8NGjDxcNCB3J",
        "outputId": "c7e1d637-dd4c-4cff-ba04-3fc668d295a8"
      },
      "execution_count": null,
      "outputs": [
        {
          "output_type": "stream",
          "name": "stdout",
          "text": [
            "       population  area  income  literacy  col\n",
            "pune        20000   200      20      56.0  2.0\n",
            "vizag       30000   300      30      34.0  3.0\n",
            "goa         15000   150      15      89.0  NaN\n",
            "hyd         50000   500      50       NaN  5.0\n"
          ]
        }
      ]
    },
    {
      "cell_type": "markdown",
      "source": [
        "creating a boolean column:"
      ],
      "metadata": {
        "id": "ITFI7zIdCvOF"
      }
    },
    {
      "cell_type": "code",
      "source": [
        "df2['eligible']=df2.income>20\n",
        "print(df2)"
      ],
      "metadata": {
        "colab": {
          "base_uri": "https://localhost:8080/"
        },
        "id": "XyquKoUeDBTq",
        "outputId": "7cd1d6b7-af8d-451b-e020-36926792ed79"
      },
      "execution_count": null,
      "outputs": [
        {
          "output_type": "stream",
          "name": "stdout",
          "text": [
            "       population  area  income  literacy  col  eligible\n",
            "pune        20000   200      20      56.0  2.0     False\n",
            "vizag       30000   300      30      34.0  3.0      True\n",
            "goa         15000   150      15      89.0  NaN     False\n",
            "hyd         50000   500      50       NaN  5.0      True\n"
          ]
        }
      ]
    },
    {
      "cell_type": "code",
      "source": [
        "df2['eligible']=df2.population>=20000\n",
        "print(df2)"
      ],
      "metadata": {
        "colab": {
          "base_uri": "https://localhost:8080/"
        },
        "id": "WYCJovdLDXF-",
        "outputId": "ebd005a6-9040-43e3-f064-1ce9eeb537c6"
      },
      "execution_count": null,
      "outputs": [
        {
          "output_type": "stream",
          "name": "stdout",
          "text": [
            "       population  area  income  literacy  col  eligible\n",
            "pune        20000   200      20      56.0  2.0      True\n",
            "vizag       30000   300      30      34.0  3.0      True\n",
            "goa         15000   150      15      89.0  NaN     False\n",
            "hyd         50000   500      50       NaN  5.0      True\n"
          ]
        }
      ]
    },
    {
      "cell_type": "markdown",
      "source": [
        "deleting a column using 'del' keword:"
      ],
      "metadata": {
        "id": "ib9PSkS6Dkq-"
      }
    },
    {
      "cell_type": "code",
      "source": [
        "del df2['eligible']\n",
        "print(df2)"
      ],
      "metadata": {
        "colab": {
          "base_uri": "https://localhost:8080/"
        },
        "id": "9WQM-s2CDp9H",
        "outputId": "a5da4cfa-d285-41b4-ab1f-e9157d2588fb"
      },
      "execution_count": null,
      "outputs": [
        {
          "output_type": "stream",
          "name": "stdout",
          "text": [
            "       population  area  income  literacy  col\n",
            "pune        20000   200      20      56.0  2.0\n",
            "vizag       30000   300      30      34.0  3.0\n",
            "goa         15000   150      15      89.0  NaN\n",
            "hyd         50000   500      50       NaN  5.0\n"
          ]
        }
      ]
    },
    {
      "cell_type": "markdown",
      "source": [
        "retrieving name of columns present in the df2"
      ],
      "metadata": {
        "id": "uk5ZCjnFECPc"
      }
    },
    {
      "cell_type": "code",
      "source": [
        "df2.columns"
      ],
      "metadata": {
        "colab": {
          "base_uri": "https://localhost:8080/"
        },
        "id": "EyS8kEWqEB5W",
        "outputId": "0d330901-c4fe-4215-d4e9-3c16e1bc46f8"
      },
      "execution_count": null,
      "outputs": [
        {
          "output_type": "execute_result",
          "data": {
            "text/plain": [
              "Index(['population', 'area', 'income', 'literacy', 'col', 'eligible'], dtype='object')"
            ]
          },
          "metadata": {},
          "execution_count": 41
        }
      ]
    },
    {
      "cell_type": "markdown",
      "source": [
        "creating a data frame with nested dict of dicts:"
      ],
      "metadata": {
        "id": "GT0qvTzZEWR1"
      }
    },
    {
      "cell_type": "code",
      "source": [
        "mydata2={'vizag':{'pop':30,'area':3,'income':300},'pune':{'pop':10,'area':1,'income':100},'goa':{'pop':40,'area':4,'income':400},'hyd':{'pop':20,'area':2,'income':200}}\n",
        "df3=pd.DataFrame(mydata2)\n",
        "print(df3)"
      ],
      "metadata": {
        "colab": {
          "base_uri": "https://localhost:8080/"
        },
        "id": "aq0Wwv58EWAZ",
        "outputId": "809b3096-43bf-41d8-d94b-80abbd2280d4"
      },
      "execution_count": null,
      "outputs": [
        {
          "output_type": "stream",
          "name": "stdout",
          "text": [
            "        vizag  pune  goa  hyd\n",
            "pop        30    10   40   20\n",
            "area        3     1    4    2\n",
            "income    300   100  400  200\n"
          ]
        }
      ]
    },
    {
      "cell_type": "markdown",
      "source": [
        "transposing rows and columns:"
      ],
      "metadata": {
        "id": "spcjGrCwFu7B"
      }
    },
    {
      "cell_type": "code",
      "source": [
        "df4=df3.T\n",
        "print(df4)"
      ],
      "metadata": {
        "colab": {
          "base_uri": "https://localhost:8080/"
        },
        "id": "ivn21BcpF1Ba",
        "outputId": "4d53cf02-9e55-4edd-fa3e-1f7954ab09ef"
      },
      "execution_count": null,
      "outputs": [
        {
          "output_type": "stream",
          "name": "stdout",
          "text": [
            "       pop  area  income\n",
            "vizag   30     3     300\n",
            "pune    10     1     100\n",
            "goa     40     4     400\n",
            "hyd     20     2     200\n"
          ]
        }
      ]
    },
    {
      "cell_type": "markdown",
      "source": [
        "dict of series"
      ],
      "metadata": {
        "id": "7WdGJWrwF-3R"
      }
    },
    {
      "cell_type": "code",
      "source": [
        "mydata3={'pop':df4['pop'][1:3],'area':df4['area'][:-2]}\n",
        "pd.DataFrame(mydata3)"
      ],
      "metadata": {
        "colab": {
          "base_uri": "https://localhost:8080/",
          "height": 143
        },
        "id": "uP1tnADxG1lH",
        "outputId": "73723b23-3703-4846-db9d-73ccd10dbd11"
      },
      "execution_count": null,
      "outputs": [
        {
          "output_type": "execute_result",
          "data": {
            "text/plain": [
              "        pop  area\n",
              "goa    40.0   NaN\n",
              "pune   10.0   1.0\n",
              "vizag   NaN   3.0"
            ],
            "text/html": [
              "\n",
              "  <div id=\"df-94bfa584-43d0-421c-a5c0-00b3c07fd11f\" class=\"colab-df-container\">\n",
              "    <div>\n",
              "<style scoped>\n",
              "    .dataframe tbody tr th:only-of-type {\n",
              "        vertical-align: middle;\n",
              "    }\n",
              "\n",
              "    .dataframe tbody tr th {\n",
              "        vertical-align: top;\n",
              "    }\n",
              "\n",
              "    .dataframe thead th {\n",
              "        text-align: right;\n",
              "    }\n",
              "</style>\n",
              "<table border=\"1\" class=\"dataframe\">\n",
              "  <thead>\n",
              "    <tr style=\"text-align: right;\">\n",
              "      <th></th>\n",
              "      <th>pop</th>\n",
              "      <th>area</th>\n",
              "    </tr>\n",
              "  </thead>\n",
              "  <tbody>\n",
              "    <tr>\n",
              "      <th>goa</th>\n",
              "      <td>40.0</td>\n",
              "      <td>NaN</td>\n",
              "    </tr>\n",
              "    <tr>\n",
              "      <th>pune</th>\n",
              "      <td>10.0</td>\n",
              "      <td>1.0</td>\n",
              "    </tr>\n",
              "    <tr>\n",
              "      <th>vizag</th>\n",
              "      <td>NaN</td>\n",
              "      <td>3.0</td>\n",
              "    </tr>\n",
              "  </tbody>\n",
              "</table>\n",
              "</div>\n",
              "    <div class=\"colab-df-buttons\">\n",
              "\n",
              "  <div class=\"colab-df-container\">\n",
              "    <button class=\"colab-df-convert\" onclick=\"convertToInteractive('df-94bfa584-43d0-421c-a5c0-00b3c07fd11f')\"\n",
              "            title=\"Convert this dataframe to an interactive table.\"\n",
              "            style=\"display:none;\">\n",
              "\n",
              "  <svg xmlns=\"http://www.w3.org/2000/svg\" height=\"24px\" viewBox=\"0 -960 960 960\">\n",
              "    <path d=\"M120-120v-720h720v720H120Zm60-500h600v-160H180v160Zm220 220h160v-160H400v160Zm0 220h160v-160H400v160ZM180-400h160v-160H180v160Zm440 0h160v-160H620v160ZM180-180h160v-160H180v160Zm440 0h160v-160H620v160Z\"/>\n",
              "  </svg>\n",
              "    </button>\n",
              "\n",
              "  <style>\n",
              "    .colab-df-container {\n",
              "      display:flex;\n",
              "      gap: 12px;\n",
              "    }\n",
              "\n",
              "    .colab-df-convert {\n",
              "      background-color: #E8F0FE;\n",
              "      border: none;\n",
              "      border-radius: 50%;\n",
              "      cursor: pointer;\n",
              "      display: none;\n",
              "      fill: #1967D2;\n",
              "      height: 32px;\n",
              "      padding: 0 0 0 0;\n",
              "      width: 32px;\n",
              "    }\n",
              "\n",
              "    .colab-df-convert:hover {\n",
              "      background-color: #E2EBFA;\n",
              "      box-shadow: 0px 1px 2px rgba(60, 64, 67, 0.3), 0px 1px 3px 1px rgba(60, 64, 67, 0.15);\n",
              "      fill: #174EA6;\n",
              "    }\n",
              "\n",
              "    .colab-df-buttons div {\n",
              "      margin-bottom: 4px;\n",
              "    }\n",
              "\n",
              "    [theme=dark] .colab-df-convert {\n",
              "      background-color: #3B4455;\n",
              "      fill: #D2E3FC;\n",
              "    }\n",
              "\n",
              "    [theme=dark] .colab-df-convert:hover {\n",
              "      background-color: #434B5C;\n",
              "      box-shadow: 0px 1px 3px 1px rgba(0, 0, 0, 0.15);\n",
              "      filter: drop-shadow(0px 1px 2px rgba(0, 0, 0, 0.3));\n",
              "      fill: #FFFFFF;\n",
              "    }\n",
              "  </style>\n",
              "\n",
              "    <script>\n",
              "      const buttonEl =\n",
              "        document.querySelector('#df-94bfa584-43d0-421c-a5c0-00b3c07fd11f button.colab-df-convert');\n",
              "      buttonEl.style.display =\n",
              "        google.colab.kernel.accessAllowed ? 'block' : 'none';\n",
              "\n",
              "      async function convertToInteractive(key) {\n",
              "        const element = document.querySelector('#df-94bfa584-43d0-421c-a5c0-00b3c07fd11f');\n",
              "        const dataTable =\n",
              "          await google.colab.kernel.invokeFunction('convertToInteractive',\n",
              "                                                    [key], {});\n",
              "        if (!dataTable) return;\n",
              "\n",
              "        const docLinkHtml = 'Like what you see? Visit the ' +\n",
              "          '<a target=\"_blank\" href=https://colab.research.google.com/notebooks/data_table.ipynb>data table notebook</a>'\n",
              "          + ' to learn more about interactive tables.';\n",
              "        element.innerHTML = '';\n",
              "        dataTable['output_type'] = 'display_data';\n",
              "        await google.colab.output.renderOutput(dataTable, element);\n",
              "        const docLink = document.createElement('div');\n",
              "        docLink.innerHTML = docLinkHtml;\n",
              "        element.appendChild(docLink);\n",
              "      }\n",
              "    </script>\n",
              "  </div>\n",
              "\n",
              "\n",
              "<div id=\"df-575c1108-d7d5-4465-9e35-13c612ae4d63\">\n",
              "  <button class=\"colab-df-quickchart\" onclick=\"quickchart('df-575c1108-d7d5-4465-9e35-13c612ae4d63')\"\n",
              "            title=\"Suggest charts\"\n",
              "            style=\"display:none;\">\n",
              "\n",
              "<svg xmlns=\"http://www.w3.org/2000/svg\" height=\"24px\"viewBox=\"0 0 24 24\"\n",
              "     width=\"24px\">\n",
              "    <g>\n",
              "        <path d=\"M19 3H5c-1.1 0-2 .9-2 2v14c0 1.1.9 2 2 2h14c1.1 0 2-.9 2-2V5c0-1.1-.9-2-2-2zM9 17H7v-7h2v7zm4 0h-2V7h2v10zm4 0h-2v-4h2v4z\"/>\n",
              "    </g>\n",
              "</svg>\n",
              "  </button>\n",
              "\n",
              "<style>\n",
              "  .colab-df-quickchart {\n",
              "      --bg-color: #E8F0FE;\n",
              "      --fill-color: #1967D2;\n",
              "      --hover-bg-color: #E2EBFA;\n",
              "      --hover-fill-color: #174EA6;\n",
              "      --disabled-fill-color: #AAA;\n",
              "      --disabled-bg-color: #DDD;\n",
              "  }\n",
              "\n",
              "  [theme=dark] .colab-df-quickchart {\n",
              "      --bg-color: #3B4455;\n",
              "      --fill-color: #D2E3FC;\n",
              "      --hover-bg-color: #434B5C;\n",
              "      --hover-fill-color: #FFFFFF;\n",
              "      --disabled-bg-color: #3B4455;\n",
              "      --disabled-fill-color: #666;\n",
              "  }\n",
              "\n",
              "  .colab-df-quickchart {\n",
              "    background-color: var(--bg-color);\n",
              "    border: none;\n",
              "    border-radius: 50%;\n",
              "    cursor: pointer;\n",
              "    display: none;\n",
              "    fill: var(--fill-color);\n",
              "    height: 32px;\n",
              "    padding: 0;\n",
              "    width: 32px;\n",
              "  }\n",
              "\n",
              "  .colab-df-quickchart:hover {\n",
              "    background-color: var(--hover-bg-color);\n",
              "    box-shadow: 0 1px 2px rgba(60, 64, 67, 0.3), 0 1px 3px 1px rgba(60, 64, 67, 0.15);\n",
              "    fill: var(--button-hover-fill-color);\n",
              "  }\n",
              "\n",
              "  .colab-df-quickchart-complete:disabled,\n",
              "  .colab-df-quickchart-complete:disabled:hover {\n",
              "    background-color: var(--disabled-bg-color);\n",
              "    fill: var(--disabled-fill-color);\n",
              "    box-shadow: none;\n",
              "  }\n",
              "\n",
              "  .colab-df-spinner {\n",
              "    border: 2px solid var(--fill-color);\n",
              "    border-color: transparent;\n",
              "    border-bottom-color: var(--fill-color);\n",
              "    animation:\n",
              "      spin 1s steps(1) infinite;\n",
              "  }\n",
              "\n",
              "  @keyframes spin {\n",
              "    0% {\n",
              "      border-color: transparent;\n",
              "      border-bottom-color: var(--fill-color);\n",
              "      border-left-color: var(--fill-color);\n",
              "    }\n",
              "    20% {\n",
              "      border-color: transparent;\n",
              "      border-left-color: var(--fill-color);\n",
              "      border-top-color: var(--fill-color);\n",
              "    }\n",
              "    30% {\n",
              "      border-color: transparent;\n",
              "      border-left-color: var(--fill-color);\n",
              "      border-top-color: var(--fill-color);\n",
              "      border-right-color: var(--fill-color);\n",
              "    }\n",
              "    40% {\n",
              "      border-color: transparent;\n",
              "      border-right-color: var(--fill-color);\n",
              "      border-top-color: var(--fill-color);\n",
              "    }\n",
              "    60% {\n",
              "      border-color: transparent;\n",
              "      border-right-color: var(--fill-color);\n",
              "    }\n",
              "    80% {\n",
              "      border-color: transparent;\n",
              "      border-right-color: var(--fill-color);\n",
              "      border-bottom-color: var(--fill-color);\n",
              "    }\n",
              "    90% {\n",
              "      border-color: transparent;\n",
              "      border-bottom-color: var(--fill-color);\n",
              "    }\n",
              "  }\n",
              "</style>\n",
              "\n",
              "  <script>\n",
              "    async function quickchart(key) {\n",
              "      const quickchartButtonEl =\n",
              "        document.querySelector('#' + key + ' button');\n",
              "      quickchartButtonEl.disabled = true;  // To prevent multiple clicks.\n",
              "      quickchartButtonEl.classList.add('colab-df-spinner');\n",
              "      try {\n",
              "        const charts = await google.colab.kernel.invokeFunction(\n",
              "            'suggestCharts', [key], {});\n",
              "      } catch (error) {\n",
              "        console.error('Error during call to suggestCharts:', error);\n",
              "      }\n",
              "      quickchartButtonEl.classList.remove('colab-df-spinner');\n",
              "      quickchartButtonEl.classList.add('colab-df-quickchart-complete');\n",
              "    }\n",
              "    (() => {\n",
              "      let quickchartButtonEl =\n",
              "        document.querySelector('#df-575c1108-d7d5-4465-9e35-13c612ae4d63 button');\n",
              "      quickchartButtonEl.style.display =\n",
              "        google.colab.kernel.accessAllowed ? 'block' : 'none';\n",
              "    })();\n",
              "  </script>\n",
              "</div>\n",
              "\n",
              "    </div>\n",
              "  </div>\n"
            ],
            "application/vnd.google.colaboratory.intrinsic+json": {
              "type": "dataframe",
              "summary": "{\n  \"name\": \"pd\",\n  \"rows\": 3,\n  \"fields\": [\n    {\n      \"column\": \"pop\",\n      \"properties\": {\n        \"dtype\": \"number\",\n        \"std\": 21.213203435596427,\n        \"min\": 10.0,\n        \"max\": 40.0,\n        \"num_unique_values\": 2,\n        \"samples\": [\n          10.0,\n          40.0\n        ],\n        \"semantic_type\": \"\",\n        \"description\": \"\"\n      }\n    },\n    {\n      \"column\": \"area\",\n      \"properties\": {\n        \"dtype\": \"number\",\n        \"std\": 1.4142135623730951,\n        \"min\": 1.0,\n        \"max\": 3.0,\n        \"num_unique_values\": 2,\n        \"samples\": [\n          3.0,\n          1.0\n        ],\n        \"semantic_type\": \"\",\n        \"description\": \"\"\n      }\n    }\n  ]\n}"
            }
          },
          "metadata": {},
          "execution_count": 52
        }
      ]
    },
    {
      "cell_type": "markdown",
      "source": [
        "naming to index and columns"
      ],
      "metadata": {
        "id": "vqROYIP_IAtj"
      }
    },
    {
      "cell_type": "code",
      "source": [
        "df4.index.name='cities'\n",
        "df4.columns.name='details'\n",
        "print(df4)"
      ],
      "metadata": {
        "colab": {
          "base_uri": "https://localhost:8080/"
        },
        "id": "M1L_VDC2IIIb",
        "outputId": "67f64116-421e-484d-8f67-2697e6f12376"
      },
      "execution_count": null,
      "outputs": [
        {
          "output_type": "stream",
          "name": "stdout",
          "text": [
            "details  pop  area  income\n",
            "cities                    \n",
            "vizag     30     3     300\n",
            "pune      10     1     100\n",
            "goa       40     4     400\n",
            "hyd       20     2     200\n"
          ]
        }
      ]
    },
    {
      "cell_type": "markdown",
      "source": [
        "getting all values of data frame as an array"
      ],
      "metadata": {
        "id": "t59vsT-GIXRD"
      }
    },
    {
      "cell_type": "code",
      "source": [
        "print(\"values of df\",df.values)\n",
        "print(\"values of df2\",df2.values)\n",
        "print(\"values of df3\",df3.values)\n",
        "print(\"values of df4\",df4.values)"
      ],
      "metadata": {
        "colab": {
          "base_uri": "https://localhost:8080/"
        },
        "id": "1SDU4ljEIc5I",
        "outputId": "6e392396-1fc4-4d3d-cbdf-a8b0a60128c7"
      },
      "execution_count": null,
      "outputs": [
        {
          "output_type": "stream",
          "name": "stdout",
          "text": [
            "values of df [[20000   200    20]\n",
            " [30000   300    30]\n",
            " [15000   150    15]\n",
            " [50000   500    50]]\n",
            "values of df2 [[20000 200 20 56.0 2.0 True]\n",
            " [30000 300 30 34.0 3.0 True]\n",
            " [15000 150 15 89.0 nan False]\n",
            " [50000 500 50 nan 5.0 True]]\n",
            "values of df3 [[ 30  10  40  20]\n",
            " [  3   1   4   2]\n",
            " [300 100 400 200]]\n",
            "values of df4 [[ 30   3 300]\n",
            " [ 10   1 100]\n",
            " [ 40   4 400]\n",
            " [ 20   2 200]]\n"
          ]
        }
      ]
    }
  ]
}